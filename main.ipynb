{
 "cells": [
  {
   "cell_type": "markdown",
   "metadata": {},
   "source": [
    "# Be Zen "
   ]
  },
  {
   "cell_type": "markdown",
   "metadata": {},
   "source": [
    "* Importing Libraries\n"
   ]
  },
  {
   "cell_type": "code",
   "execution_count": 86,
   "metadata": {},
   "outputs": [],
   "source": [
    "import pandas as pd\n",
    "import numpy as np\n",
    "import matplotlib.pyplot as plt\n",
    "import seaborn as sns\n",
    "import re\n"
   ]
  },
  {
   "cell_type": "markdown",
   "metadata": {},
   "source": [
    "* Importing the dataset"
   ]
  },
  {
   "cell_type": "code",
   "execution_count": 87,
   "metadata": {},
   "outputs": [],
   "source": [
    "df=pd.read_csv(\"file.csv\")"
   ]
  },
  {
   "cell_type": "code",
   "execution_count": 88,
   "metadata": {},
   "outputs": [
    {
     "data": {
      "text/html": [
       "<div>\n",
       "<style scoped>\n",
       "    .dataframe tbody tr th:only-of-type {\n",
       "        vertical-align: middle;\n",
       "    }\n",
       "\n",
       "    .dataframe tbody tr th {\n",
       "        vertical-align: top;\n",
       "    }\n",
       "\n",
       "    .dataframe thead th {\n",
       "        text-align: right;\n",
       "    }\n",
       "</style>\n",
       "<table border=\"1\" class=\"dataframe\">\n",
       "  <thead>\n",
       "    <tr style=\"text-align: right;\">\n",
       "      <th></th>\n",
       "      <th>uuid</th>\n",
       "      <th>price_string</th>\n",
       "      <th>price_string_unf</th>\n",
       "      <th>product_type</th>\n",
       "      <th>level_1</th>\n",
       "      <th>category</th>\n",
       "    </tr>\n",
       "  </thead>\n",
       "  <tbody>\n",
       "    <tr>\n",
       "      <th>0</th>\n",
       "      <td>638744a4-b0ae-4166-8cb6-5c063c862036</td>\n",
       "      <td>NaN</td>\n",
       "      <td>NaN</td>\n",
       "      <td>TGFwdG9wIENvdmVycy9CYWdz</td>\n",
       "      <td>TGFwdG9wIENhc2U</td>\n",
       "      <td>RWxlY3Ryb25pY3M</td>\n",
       "    </tr>\n",
       "    <tr>\n",
       "      <th>1</th>\n",
       "      <td>ab313969-02cc-48b2-9daf-0054efb70b92</td>\n",
       "      <td>NaN</td>\n",
       "      <td>NaN</td>\n",
       "      <td>QmFraW5nIEN1cHMgYW5kIE1hdHM</td>\n",
       "      <td>QmFraW5nIE1hdHMgLyBCYWtpbmcgZGlzaA</td>\n",
       "      <td>a2l0Y2hpbmcgYW5kIGRpbmluZw</td>\n",
       "    </tr>\n",
       "    <tr>\n",
       "      <th>2</th>\n",
       "      <td>acbd66ff-79f8-467a-91f9-108a45af5626</td>\n",
       "      <td>$19.95</td>\n",
       "      <td>NaN</td>\n",
       "      <td>R3VtbWllcyB2aXRhbWlucyBhbmQgbWluZXJhbHMgZm9yIG...</td>\n",
       "      <td>SW1tdW5pdHkgZ3VtbWllcw</td>\n",
       "      <td>SGVhbHRo</td>\n",
       "    </tr>\n",
       "    <tr>\n",
       "      <th>3</th>\n",
       "      <td>963915d6-b2e3-4098-b242-9410593cf205</td>\n",
       "      <td>$92.00</td>\n",
       "      <td>NaN</td>\n",
       "      <td>U2VydW1z</td>\n",
       "      <td>RmFjZSBTZXJ1bQ</td>\n",
       "      <td>YmVhdXR5IGFuZCBwZXJzb25hbCBjYXJl</td>\n",
       "    </tr>\n",
       "    <tr>\n",
       "      <th>4</th>\n",
       "      <td>b5b68f3c-b1e0-40e5-8ee5-e2f7236c1daf</td>\n",
       "      <td>11.50</td>\n",
       "      <td>NaN</td>\n",
       "      <td>RWF0aW5nIFV0ZW5zaWxzL0N1dGxlcnk</td>\n",
       "      <td>Q2hvcHN0aWNrcw</td>\n",
       "      <td>a2l0Y2hpbmcgYW5kIGRpbmluZw</td>\n",
       "    </tr>\n",
       "  </tbody>\n",
       "</table>\n",
       "</div>"
      ],
      "text/plain": [
       "                                   uuid price_string price_string_unf  \\\n",
       "0  638744a4-b0ae-4166-8cb6-5c063c862036          NaN              NaN   \n",
       "1  ab313969-02cc-48b2-9daf-0054efb70b92          NaN              NaN   \n",
       "2  acbd66ff-79f8-467a-91f9-108a45af5626       $19.95              NaN   \n",
       "3  963915d6-b2e3-4098-b242-9410593cf205       $92.00              NaN   \n",
       "4  b5b68f3c-b1e0-40e5-8ee5-e2f7236c1daf        11.50              NaN   \n",
       "\n",
       "                                        product_type  \\\n",
       "0                           TGFwdG9wIENvdmVycy9CYWdz   \n",
       "1                        QmFraW5nIEN1cHMgYW5kIE1hdHM   \n",
       "2  R3VtbWllcyB2aXRhbWlucyBhbmQgbWluZXJhbHMgZm9yIG...   \n",
       "3                                           U2VydW1z   \n",
       "4                    RWF0aW5nIFV0ZW5zaWxzL0N1dGxlcnk   \n",
       "\n",
       "                              level_1                          category  \n",
       "0                     TGFwdG9wIENhc2U                   RWxlY3Ryb25pY3M  \n",
       "1  QmFraW5nIE1hdHMgLyBCYWtpbmcgZGlzaA        a2l0Y2hpbmcgYW5kIGRpbmluZw  \n",
       "2              SW1tdW5pdHkgZ3VtbWllcw                          SGVhbHRo  \n",
       "3                      RmFjZSBTZXJ1bQ  YmVhdXR5IGFuZCBwZXJzb25hbCBjYXJl  \n",
       "4                      Q2hvcHN0aWNrcw        a2l0Y2hpbmcgYW5kIGRpbmluZw  "
      ]
     },
     "execution_count": 88,
     "metadata": {},
     "output_type": "execute_result"
    }
   ],
   "source": [
    "df.head()"
   ]
  },
  {
   "cell_type": "markdown",
   "metadata": {},
   "source": [
    "# Data Exploration"
   ]
  },
  {
   "cell_type": "markdown",
   "metadata": {},
   "source": [
    "* Columns"
   ]
  },
  {
   "cell_type": "code",
   "execution_count": 89,
   "metadata": {},
   "outputs": [
    {
     "data": {
      "text/plain": [
       "Index(['uuid', 'price_string', 'price_string_unf', 'product_type', 'level_1',\n",
       "       'category'],\n",
       "      dtype='object')"
      ]
     },
     "execution_count": 89,
     "metadata": {},
     "output_type": "execute_result"
    }
   ],
   "source": [
    "df.columns"
   ]
  },
  {
   "cell_type": "markdown",
   "metadata": {},
   "source": [
    "* Null values"
   ]
  },
  {
   "cell_type": "code",
   "execution_count": 90,
   "metadata": {},
   "outputs": [
    {
     "data": {
      "text/plain": [
       "uuid                       0\n",
       "price_string         8220000\n",
       "price_string_unf    13420000\n",
       "product_type           10000\n",
       "level_1                50000\n",
       "category               10000\n",
       "dtype: int64"
      ]
     },
     "execution_count": 90,
     "metadata": {},
     "output_type": "execute_result"
    }
   ],
   "source": [
    "df.isna().sum()"
   ]
  },
  {
   "cell_type": "markdown",
   "metadata": {},
   "source": [
    "* Statistical Information"
   ]
  },
  {
   "cell_type": "code",
   "execution_count": 91,
   "metadata": {},
   "outputs": [
    {
     "data": {
      "text/html": [
       "<div>\n",
       "<style scoped>\n",
       "    .dataframe tbody tr th:only-of-type {\n",
       "        vertical-align: middle;\n",
       "    }\n",
       "\n",
       "    .dataframe tbody tr th {\n",
       "        vertical-align: top;\n",
       "    }\n",
       "\n",
       "    .dataframe thead th {\n",
       "        text-align: right;\n",
       "    }\n",
       "</style>\n",
       "<table border=\"1\" class=\"dataframe\">\n",
       "  <thead>\n",
       "    <tr style=\"text-align: right;\">\n",
       "      <th></th>\n",
       "      <th>uuid</th>\n",
       "      <th>price_string</th>\n",
       "      <th>price_string_unf</th>\n",
       "      <th>product_type</th>\n",
       "      <th>level_1</th>\n",
       "      <th>category</th>\n",
       "    </tr>\n",
       "  </thead>\n",
       "  <tbody>\n",
       "    <tr>\n",
       "      <th>count</th>\n",
       "      <td>13730000</td>\n",
       "      <td>5510000</td>\n",
       "      <td>310000</td>\n",
       "      <td>13720000</td>\n",
       "      <td>13680000</td>\n",
       "      <td>13720000</td>\n",
       "    </tr>\n",
       "    <tr>\n",
       "      <th>unique</th>\n",
       "      <td>1373</td>\n",
       "      <td>248</td>\n",
       "      <td>26</td>\n",
       "      <td>321</td>\n",
       "      <td>595</td>\n",
       "      <td>13</td>\n",
       "    </tr>\n",
       "    <tr>\n",
       "      <th>top</th>\n",
       "      <td>638744a4-b0ae-4166-8cb6-5c063c862036</td>\n",
       "      <td>$0.00</td>\n",
       "      <td>$6.75</td>\n",
       "      <td>U2NydWJzIGFuZCBjbGVhbmluZyBjbG90aHM</td>\n",
       "      <td>U3dlYXRzaGlydA</td>\n",
       "      <td>Q2xvdGhpbmcgYW5kIEFjY2Vzc29yaWVz</td>\n",
       "    </tr>\n",
       "    <tr>\n",
       "      <th>freq</th>\n",
       "      <td>10000</td>\n",
       "      <td>240000</td>\n",
       "      <td>30000</td>\n",
       "      <td>200000</td>\n",
       "      <td>90000</td>\n",
       "      <td>3910000</td>\n",
       "    </tr>\n",
       "  </tbody>\n",
       "</table>\n",
       "</div>"
      ],
      "text/plain": [
       "                                        uuid price_string price_string_unf  \\\n",
       "count                               13730000      5510000           310000   \n",
       "unique                                  1373          248               26   \n",
       "top     638744a4-b0ae-4166-8cb6-5c063c862036        $0.00            $6.75   \n",
       "freq                                   10000       240000            30000   \n",
       "\n",
       "                               product_type         level_1  \\\n",
       "count                              13720000        13680000   \n",
       "unique                                  321             595   \n",
       "top     U2NydWJzIGFuZCBjbGVhbmluZyBjbG90aHM  U3dlYXRzaGlydA   \n",
       "freq                                 200000           90000   \n",
       "\n",
       "                                category  \n",
       "count                           13720000  \n",
       "unique                                13  \n",
       "top     Q2xvdGhpbmcgYW5kIEFjY2Vzc29yaWVz  \n",
       "freq                             3910000  "
      ]
     },
     "execution_count": 91,
     "metadata": {},
     "output_type": "execute_result"
    }
   ],
   "source": [
    "df.describe()"
   ]
  },
  {
   "cell_type": "markdown",
   "metadata": {},
   "source": [
    "* General Information"
   ]
  },
  {
   "cell_type": "code",
   "execution_count": 92,
   "metadata": {},
   "outputs": [
    {
     "name": "stdout",
     "output_type": "stream",
     "text": [
      "<class 'pandas.core.frame.DataFrame'>\n",
      "RangeIndex: 13730000 entries, 0 to 13729999\n",
      "Data columns (total 6 columns):\n",
      " #   Column            Dtype \n",
      "---  ------            ----- \n",
      " 0   uuid              object\n",
      " 1   price_string      object\n",
      " 2   price_string_unf  object\n",
      " 3   product_type      object\n",
      " 4   level_1           object\n",
      " 5   category          object\n",
      "dtypes: object(6)\n",
      "memory usage: 628.5+ MB\n"
     ]
    }
   ],
   "source": [
    "df.info()"
   ]
  },
  {
   "cell_type": "markdown",
   "metadata": {},
   "source": [
    "* Shape of the Dataset"
   ]
  },
  {
   "cell_type": "code",
   "execution_count": 93,
   "metadata": {},
   "outputs": [
    {
     "data": {
      "text/plain": [
       "(13730000, 6)"
      ]
     },
     "execution_count": 93,
     "metadata": {},
     "output_type": "execute_result"
    }
   ],
   "source": [
    "df.shape"
   ]
  },
  {
   "cell_type": "code",
   "execution_count": 94,
   "metadata": {},
   "outputs": [
    {
     "data": {
      "text/html": [
       "<div>\n",
       "<style scoped>\n",
       "    .dataframe tbody tr th:only-of-type {\n",
       "        vertical-align: middle;\n",
       "    }\n",
       "\n",
       "    .dataframe tbody tr th {\n",
       "        vertical-align: top;\n",
       "    }\n",
       "\n",
       "    .dataframe thead th {\n",
       "        text-align: right;\n",
       "    }\n",
       "</style>\n",
       "<table border=\"1\" class=\"dataframe\">\n",
       "  <thead>\n",
       "    <tr style=\"text-align: right;\">\n",
       "      <th></th>\n",
       "      <th>uuid</th>\n",
       "      <th>price_string</th>\n",
       "      <th>price_string_unf</th>\n",
       "      <th>product_type</th>\n",
       "      <th>level_1</th>\n",
       "      <th>category</th>\n",
       "    </tr>\n",
       "  </thead>\n",
       "  <tbody>\n",
       "    <tr>\n",
       "      <th>0</th>\n",
       "      <td>638744a4-b0ae-4166-8cb6-5c063c862036</td>\n",
       "      <td>NaN</td>\n",
       "      <td>NaN</td>\n",
       "      <td>TGFwdG9wIENvdmVycy9CYWdz</td>\n",
       "      <td>TGFwdG9wIENhc2U</td>\n",
       "      <td>RWxlY3Ryb25pY3M</td>\n",
       "    </tr>\n",
       "  </tbody>\n",
       "</table>\n",
       "</div>"
      ],
      "text/plain": [
       "                                   uuid price_string price_string_unf  \\\n",
       "0  638744a4-b0ae-4166-8cb6-5c063c862036          NaN              NaN   \n",
       "\n",
       "               product_type          level_1         category  \n",
       "0  TGFwdG9wIENvdmVycy9CYWdz  TGFwdG9wIENhc2U  RWxlY3Ryb25pY3M  "
      ]
     },
     "execution_count": 94,
     "metadata": {},
     "output_type": "execute_result"
    }
   ],
   "source": [
    "df.head(1)"
   ]
  },
  {
   "cell_type": "markdown",
   "metadata": {},
   "source": [
    "# Products without prices\n"
   ]
  },
  {
   "cell_type": "markdown",
   "metadata": {},
   "source": [
    "* Number of products withour prices"
   ]
  },
  {
   "cell_type": "code",
   "execution_count": 95,
   "metadata": {},
   "outputs": [
    {
     "data": {
      "text/plain": [
       "8220000"
      ]
     },
     "execution_count": 95,
     "metadata": {},
     "output_type": "execute_result"
    }
   ],
   "source": [
    "df.price_string.isna().sum()"
   ]
  },
  {
   "cell_type": "markdown",
   "metadata": {},
   "source": [
    "* Products without prices"
   ]
  },
  {
   "cell_type": "code",
   "execution_count": 96,
   "metadata": {},
   "outputs": [
    {
     "data": {
      "text/plain": [
       "0           638744a4-b0ae-4166-8cb6-5c063c862036\n",
       "1           ab313969-02cc-48b2-9daf-0054efb70b92\n",
       "5           389d9f75-cc3f-4bd2-94f7-93e381a3bed5\n",
       "13          1f2766ec-0a27-43f8-b28b-77a44492ead1\n",
       "16          7bad39f5-74b9-4611-afb9-46fb135190cd\n",
       "                            ...                 \n",
       "13729992    8d763911-79b7-402d-8964-6bfe89692c66\n",
       "13729993    2dc182aa-d591-49e4-85d1-5c4a60a09664\n",
       "13729995    2a13338e-9268-4f7b-9e7c-b8c41c72971b\n",
       "13729997    679f073a-862a-4e43-b5ce-41e45afd3bfa\n",
       "13729998    25677eee-c26b-4abf-bd10-ca77a800ba26\n",
       "Name: uuid, Length: 8220000, dtype: object"
      ]
     },
     "execution_count": 96,
     "metadata": {},
     "output_type": "execute_result"
    }
   ],
   "source": [
    "df[df.price_string.isna()].uuid"
   ]
  },
  {
   "cell_type": "markdown",
   "metadata": {},
   "source": [
    "# Count of products without prices and with prices in each Product Type, Category, Level 1 "
   ]
  },
  {
   "cell_type": "markdown",
   "metadata": {},
   "source": [
    "* Count of products without prices in Product Type"
   ]
  },
  {
   "cell_type": "code",
   "execution_count": 97,
   "metadata": {},
   "outputs": [
    {
     "data": {
      "text/plain": [
       "V29tZW5zIHN3aW13ZWFy                      140000\n",
       "V29tZW5zIHdvcmt3ZWFyLyBvZmZpY2Ugd2Vhcg    130000\n",
       "VG9kZGxlcnMvbmV3Ym9ybiBiYWJpZXM           130000\n",
       "VmVoaWNsZSBUb3lz                          120000\n",
       "UGx1cyBzaXplIHdlYXI                       120000\n",
       "                                           ...  \n",
       "Um9sbGluZyBQaW4                            10000\n",
       "V29ya291dCBMZWdnaW5ncw                     10000\n",
       "TWVucyBKYWNrZXQ                            10000\n",
       "U25lYWtlcnMgc2hvZXM                        10000\n",
       "WW9nYSBNYXRz                               10000\n",
       "Name: product_type, Length: 278, dtype: int64"
      ]
     },
     "execution_count": 97,
     "metadata": {},
     "output_type": "execute_result"
    }
   ],
   "source": [
    "df[df.price_string.isna()].product_type.value_counts()"
   ]
  },
  {
   "cell_type": "markdown",
   "metadata": {},
   "source": [
    "* Count of products with prices in Product Type"
   ]
  },
  {
   "cell_type": "code",
   "execution_count": 98,
   "metadata": {},
   "outputs": [
    {
     "data": {
      "text/plain": [
       "U2NydWJzIGFuZCBjbGVhbmluZyBjbG90aHM        140000\n",
       "d29tZW5zIE91dGVyd2Vhcg                     130000\n",
       "Q29va2luZyBVdGVuc2lscw                     110000\n",
       "V29tZW5zIFBhbnRz                            90000\n",
       "WW9nYSBBY2Nlc3Nvcmllcy8gR2Vhcg              90000\n",
       "                                            ...  \n",
       "TWVjaGFuaWNhbCBQZW5jaWxz                    10000\n",
       "UGV0IHBvb3AgYmFncyB3aXRoIGRpc3BlbnNlcnM     10000\n",
       "UnVncw                                      10000\n",
       "SnVtcHN1aXRzL092ZXJhbGw                     10000\n",
       "QmFieSBTb2Fw                                10000\n",
       "Name: product_type, Length: 209, dtype: int64"
      ]
     },
     "execution_count": 98,
     "metadata": {},
     "output_type": "execute_result"
    }
   ],
   "source": [
    "df[df.price_string.notna()].product_type.value_counts()"
   ]
  },
  {
   "cell_type": "markdown",
   "metadata": {},
   "source": [
    "* Count of products without prices in Category"
   ]
  },
  {
   "cell_type": "code",
   "execution_count": 99,
   "metadata": {},
   "outputs": [
    {
     "data": {
      "text/plain": [
       "Q2xvdGhpbmcgYW5kIEFjY2Vzc29yaWVz       2050000\n",
       "Z3JvY2VyaWVz                           1130000\n",
       "SG91c2Vob2xkIGFuZCBDbGVhbmluZw          870000\n",
       "YmVhdXR5IGFuZCBwZXJzb25hbCBjYXJl        720000\n",
       "SGVhbHRo                                700000\n",
       "VG95cyBhbmQgR2FtZXM                     600000\n",
       "cGV0IHN1cHBsaWVz                        580000\n",
       "QmFieWNhcmU                             570000\n",
       "VG9vbHMgYW5kIGhvbWUgaW1wcm92ZW1lbnQ     320000\n",
       "a2l0Y2hpbmcgYW5kIGRpbmluZw              250000\n",
       "RWxlY3Ryb25pY3M                         210000\n",
       "QXJ0IHN1cHBsaWVz                        130000\n",
       "b2ZmaWNlIHByb2R1Y3Rz                     80000\n",
       "Name: category, dtype: int64"
      ]
     },
     "execution_count": 99,
     "metadata": {},
     "output_type": "execute_result"
    }
   ],
   "source": [
    "df[df.price_string.isna()].category.value_counts()"
   ]
  },
  {
   "cell_type": "markdown",
   "metadata": {},
   "source": [
    "* Countt of Poducts with prices in each Category"
   ]
  },
  {
   "cell_type": "code",
   "execution_count": 100,
   "metadata": {},
   "outputs": [
    {
     "data": {
      "text/plain": [
       "Q2xvdGhpbmcgYW5kIEFjY2Vzc29yaWVz       1860000\n",
       "YmVhdXR5IGFuZCBwZXJzb25hbCBjYXJl        750000\n",
       "SG91c2Vob2xkIGFuZCBDbGVhbmluZw          700000\n",
       "Z3JvY2VyaWVz                            480000\n",
       "a2l0Y2hpbmcgYW5kIGRpbmluZw              340000\n",
       "SGVhbHRo                                290000\n",
       "VG9vbHMgYW5kIGhvbWUgaW1wcm92ZW1lbnQ     200000\n",
       "VG95cyBhbmQgR2FtZXM                     190000\n",
       "QXJ0IHN1cHBsaWVz                        190000\n",
       "cGV0IHN1cHBsaWVz                        160000\n",
       "b2ZmaWNlIHByb2R1Y3Rz                    150000\n",
       "RWxlY3Ryb25pY3M                         110000\n",
       "QmFieWNhcmU                              90000\n",
       "Name: category, dtype: int64"
      ]
     },
     "execution_count": 100,
     "metadata": {},
     "output_type": "execute_result"
    }
   ],
   "source": [
    "df[df.price_string.notna()].category.value_counts()"
   ]
  },
  {
   "cell_type": "markdown",
   "metadata": {},
   "source": [
    "* Count of products in Level_1 without the prices"
   ]
  },
  {
   "cell_type": "code",
   "execution_count": 101,
   "metadata": {},
   "outputs": [
    {
     "data": {
      "text/plain": [
       "Rm9ybWFsIFN1aXRz                  60000\n",
       "U3dlYXRzaGlydA                    60000\n",
       "U29ja3M                           50000\n",
       "Rm9ybWFsIFBhbnRz                  50000\n",
       "TXVsdGl2aXRhbWluIGd1bW1pZXM       40000\n",
       "                                  ...  \n",
       "U29hcCBCYXI                       10000\n",
       "RGlzaCBjbG90aA                    10000\n",
       "UG90IHNjcnVicw                    10000\n",
       "V29tZW5zIGJyaWVmcw                10000\n",
       "RWNvIGZyaWVuZGx5IHlvZ2EgbWF0cw    10000\n",
       "Name: level_1, Length: 476, dtype: int64"
      ]
     },
     "execution_count": 101,
     "metadata": {},
     "output_type": "execute_result"
    }
   ],
   "source": [
    "df[df.price_string.isna()].level_1.value_counts()"
   ]
  },
  {
   "cell_type": "markdown",
   "metadata": {},
   "source": [
    "* Count of products in Level_1 with the prices"
   ]
  },
  {
   "cell_type": "code",
   "execution_count": 102,
   "metadata": {},
   "outputs": [
    {
     "data": {
      "text/plain": [
       "U3Bvb24sIEtuaWZlIGFuZCBGb3Jr       60000\n",
       "Q2xlYW5pbmcgY2xvdGg                50000\n",
       "UHVmZmVyIEphY2tldA                 50000\n",
       "TWVucyBTdHJhaWdodCBGaXQgamVhbnM    50000\n",
       "U2NydWJz                           40000\n",
       "                                   ...  \n",
       "T25lIHBpZWNlIHN3aW1zdWl0           10000\n",
       "RG9nIFdpcGVz                       10000\n",
       "VHJhc2ggQmFncw                     10000\n",
       "TWVucyBzbmVha2Vycw                 10000\n",
       "UHVwcHkgU2hhbXBvbw                 10000\n",
       "Name: level_1, Length: 366, dtype: int64"
      ]
     },
     "execution_count": 102,
     "metadata": {},
     "output_type": "execute_result"
    }
   ],
   "source": [
    "df[df.price_string.notna()].level_1.value_counts()"
   ]
  },
  {
   "cell_type": "markdown",
   "metadata": {},
   "source": [
    "# Correct Product Prices in the correct format (eg: $56) wherever possible and separate them into currency and value columns. "
   ]
  },
  {
   "cell_type": "markdown",
   "metadata": {},
   "source": [
    "* Creating a copy of the Dataset"
   ]
  },
  {
   "cell_type": "code",
   "execution_count": 103,
   "metadata": {},
   "outputs": [],
   "source": [
    "newdf=df.copy()"
   ]
  },
  {
   "cell_type": "markdown",
   "metadata": {},
   "source": [
    "* Product price sample"
   ]
  },
  {
   "cell_type": "code",
   "execution_count": 104,
   "metadata": {},
   "outputs": [
    {
     "data": {
      "text/plain": [
       "'$55.00'"
      ]
     },
     "execution_count": 104,
     "metadata": {},
     "output_type": "execute_result"
    }
   ],
   "source": [
    "df.price_string[10]"
   ]
  },
  {
   "cell_type": "markdown",
   "metadata": {},
   "source": [
    "* Cleaning the price column"
   ]
  },
  {
   "cell_type": "code",
   "execution_count": 105,
   "metadata": {},
   "outputs": [
    {
     "data": {
      "text/plain": [
       "'$'"
      ]
     },
     "execution_count": 105,
     "metadata": {},
     "output_type": "execute_result"
    }
   ],
   "source": [
    "clean_curr=re.sub(\"\\d|[.]\",\"\",str(df.price_string[10]))\n",
    "clean_curr"
   ]
  },
  {
   "cell_type": "markdown",
   "metadata": {},
   "source": [
    "* Creating two new columns in the dataset for the currency and the values"
   ]
  },
  {
   "cell_type": "code",
   "execution_count": 106,
   "metadata": {},
   "outputs": [],
   "source": [
    "newdf['currency']=0\n",
    "newdf['currency_values']=0"
   ]
  },
  {
   "cell_type": "code",
   "execution_count": 107,
   "metadata": {},
   "outputs": [
    {
     "data": {
      "text/html": [
       "<div>\n",
       "<style scoped>\n",
       "    .dataframe tbody tr th:only-of-type {\n",
       "        vertical-align: middle;\n",
       "    }\n",
       "\n",
       "    .dataframe tbody tr th {\n",
       "        vertical-align: top;\n",
       "    }\n",
       "\n",
       "    .dataframe thead th {\n",
       "        text-align: right;\n",
       "    }\n",
       "</style>\n",
       "<table border=\"1\" class=\"dataframe\">\n",
       "  <thead>\n",
       "    <tr style=\"text-align: right;\">\n",
       "      <th></th>\n",
       "      <th>uuid</th>\n",
       "      <th>price_string</th>\n",
       "      <th>price_string_unf</th>\n",
       "      <th>product_type</th>\n",
       "      <th>level_1</th>\n",
       "      <th>category</th>\n",
       "      <th>currency</th>\n",
       "      <th>currency_values</th>\n",
       "    </tr>\n",
       "  </thead>\n",
       "  <tbody>\n",
       "    <tr>\n",
       "      <th>0</th>\n",
       "      <td>638744a4-b0ae-4166-8cb6-5c063c862036</td>\n",
       "      <td>NaN</td>\n",
       "      <td>NaN</td>\n",
       "      <td>TGFwdG9wIENvdmVycy9CYWdz</td>\n",
       "      <td>TGFwdG9wIENhc2U</td>\n",
       "      <td>RWxlY3Ryb25pY3M</td>\n",
       "      <td>0</td>\n",
       "      <td>0</td>\n",
       "    </tr>\n",
       "    <tr>\n",
       "      <th>1</th>\n",
       "      <td>ab313969-02cc-48b2-9daf-0054efb70b92</td>\n",
       "      <td>NaN</td>\n",
       "      <td>NaN</td>\n",
       "      <td>QmFraW5nIEN1cHMgYW5kIE1hdHM</td>\n",
       "      <td>QmFraW5nIE1hdHMgLyBCYWtpbmcgZGlzaA</td>\n",
       "      <td>a2l0Y2hpbmcgYW5kIGRpbmluZw</td>\n",
       "      <td>0</td>\n",
       "      <td>0</td>\n",
       "    </tr>\n",
       "    <tr>\n",
       "      <th>2</th>\n",
       "      <td>acbd66ff-79f8-467a-91f9-108a45af5626</td>\n",
       "      <td>$19.95</td>\n",
       "      <td>NaN</td>\n",
       "      <td>R3VtbWllcyB2aXRhbWlucyBhbmQgbWluZXJhbHMgZm9yIG...</td>\n",
       "      <td>SW1tdW5pdHkgZ3VtbWllcw</td>\n",
       "      <td>SGVhbHRo</td>\n",
       "      <td>0</td>\n",
       "      <td>0</td>\n",
       "    </tr>\n",
       "    <tr>\n",
       "      <th>3</th>\n",
       "      <td>963915d6-b2e3-4098-b242-9410593cf205</td>\n",
       "      <td>$92.00</td>\n",
       "      <td>NaN</td>\n",
       "      <td>U2VydW1z</td>\n",
       "      <td>RmFjZSBTZXJ1bQ</td>\n",
       "      <td>YmVhdXR5IGFuZCBwZXJzb25hbCBjYXJl</td>\n",
       "      <td>0</td>\n",
       "      <td>0</td>\n",
       "    </tr>\n",
       "    <tr>\n",
       "      <th>4</th>\n",
       "      <td>b5b68f3c-b1e0-40e5-8ee5-e2f7236c1daf</td>\n",
       "      <td>11.50</td>\n",
       "      <td>NaN</td>\n",
       "      <td>RWF0aW5nIFV0ZW5zaWxzL0N1dGxlcnk</td>\n",
       "      <td>Q2hvcHN0aWNrcw</td>\n",
       "      <td>a2l0Y2hpbmcgYW5kIGRpbmluZw</td>\n",
       "      <td>0</td>\n",
       "      <td>0</td>\n",
       "    </tr>\n",
       "  </tbody>\n",
       "</table>\n",
       "</div>"
      ],
      "text/plain": [
       "                                   uuid price_string price_string_unf  \\\n",
       "0  638744a4-b0ae-4166-8cb6-5c063c862036          NaN              NaN   \n",
       "1  ab313969-02cc-48b2-9daf-0054efb70b92          NaN              NaN   \n",
       "2  acbd66ff-79f8-467a-91f9-108a45af5626       $19.95              NaN   \n",
       "3  963915d6-b2e3-4098-b242-9410593cf205       $92.00              NaN   \n",
       "4  b5b68f3c-b1e0-40e5-8ee5-e2f7236c1daf        11.50              NaN   \n",
       "\n",
       "                                        product_type  \\\n",
       "0                           TGFwdG9wIENvdmVycy9CYWdz   \n",
       "1                        QmFraW5nIEN1cHMgYW5kIE1hdHM   \n",
       "2  R3VtbWllcyB2aXRhbWlucyBhbmQgbWluZXJhbHMgZm9yIG...   \n",
       "3                                           U2VydW1z   \n",
       "4                    RWF0aW5nIFV0ZW5zaWxzL0N1dGxlcnk   \n",
       "\n",
       "                              level_1                          category  \\\n",
       "0                     TGFwdG9wIENhc2U                   RWxlY3Ryb25pY3M   \n",
       "1  QmFraW5nIE1hdHMgLyBCYWtpbmcgZGlzaA        a2l0Y2hpbmcgYW5kIGRpbmluZw   \n",
       "2              SW1tdW5pdHkgZ3VtbWllcw                          SGVhbHRo   \n",
       "3                      RmFjZSBTZXJ1bQ  YmVhdXR5IGFuZCBwZXJzb25hbCBjYXJl   \n",
       "4                      Q2hvcHN0aWNrcw        a2l0Y2hpbmcgYW5kIGRpbmluZw   \n",
       "\n",
       "   currency  currency_values  \n",
       "0         0                0  \n",
       "1         0                0  \n",
       "2         0                0  \n",
       "3         0                0  \n",
       "4         0                0  "
      ]
     },
     "execution_count": 107,
     "metadata": {},
     "output_type": "execute_result"
    }
   ],
   "source": [
    "newdf.head()"
   ]
  },
  {
   "cell_type": "markdown",
   "metadata": {},
   "source": [
    "* Function to clean the price columns"
   ]
  },
  {
   "cell_type": "code",
   "execution_count": 108,
   "metadata": {},
   "outputs": [],
   "source": [
    "def clean_price_func(data):\n",
    "    clean_curr=re.sub(\"\\d|[.]\",\"\",str(data))\n",
    "    return clean_curr\n",
    "newdf.currency=df.price_string.apply(clean_price_func)"
   ]
  },
  {
   "cell_type": "code",
   "execution_count": 109,
   "metadata": {},
   "outputs": [
    {
     "data": {
      "text/plain": [
       "nan    8220000\n",
       "$      5300000\n",
       "        210000\n",
       "Name: currency, dtype: int64"
      ]
     },
     "execution_count": 109,
     "metadata": {},
     "output_type": "execute_result"
    }
   ],
   "source": [
    "newdf.currency.value_counts()"
   ]
  },
  {
   "cell_type": "markdown",
   "metadata": {},
   "source": [
    "* Checking for the price where currency =$"
   ]
  },
  {
   "cell_type": "code",
   "execution_count": 110,
   "metadata": {},
   "outputs": [
    {
     "data": {
      "text/plain": [
       "2    acbd66ff-79f8-467a-91f9-108a45af5626\n",
       "3    963915d6-b2e3-4098-b242-9410593cf205\n",
       "6    9599f1a9-d406-43eb-89f5-9b1c0af1ac9a\n",
       "7    35799087-f6f4-4ca2-abfe-cbb5c27d2f1a\n",
       "8    9b3f553e-ee4c-4e1c-822e-c8c6c1b7f02a\n",
       "Name: uuid, dtype: object"
      ]
     },
     "execution_count": 110,
     "metadata": {},
     "output_type": "execute_result"
    }
   ],
   "source": [
    "newdf[newdf.currency== \"$\"].uuid.head()"
   ]
  },
  {
   "cell_type": "markdown",
   "metadata": {},
   "source": [
    "* Checking for the price where currency =\"\""
   ]
  },
  {
   "cell_type": "code",
   "execution_count": 111,
   "metadata": {},
   "outputs": [
    {
     "data": {
      "text/plain": [
       "4      b5b68f3c-b1e0-40e5-8ee5-e2f7236c1daf\n",
       "11     955f5ee8-e152-44b6-ba70-3e79bc0dd975\n",
       "14     9de3aff1-4804-4c33-b4f0-f1482dccbdb3\n",
       "93     c2db1477-a9d6-4127-8277-b773aca775f1\n",
       "106    cba9f6bd-6352-4915-ba2e-849caf082860\n",
       "Name: uuid, dtype: object"
      ]
     },
     "execution_count": 111,
     "metadata": {},
     "output_type": "execute_result"
    }
   ],
   "source": [
    "newdf[newdf.currency== \"\"].uuid.head()"
   ]
  },
  {
   "cell_type": "code",
   "execution_count": 112,
   "metadata": {},
   "outputs": [
    {
     "data": {
      "text/plain": [
       "'11.50'"
      ]
     },
     "execution_count": 112,
     "metadata": {},
     "output_type": "execute_result"
    }
   ],
   "source": [
    "newdf.price_string[4]"
   ]
  },
  {
   "cell_type": "markdown",
   "metadata": {},
   "source": [
    "* Cleaning the price for the values"
   ]
  },
  {
   "cell_type": "code",
   "execution_count": 113,
   "metadata": {},
   "outputs": [
    {
     "data": {
      "text/plain": [
       "'55.00'"
      ]
     },
     "execution_count": 113,
     "metadata": {},
     "output_type": "execute_result"
    }
   ],
   "source": [
    "clean_currValues=re.sub(\"\\$\",\"\",str(df.price_string[10]))\n",
    "clean_currValues"
   ]
  },
  {
   "cell_type": "markdown",
   "metadata": {},
   "source": [
    "* Creating the function for Cleaning the values"
   ]
  },
  {
   "cell_type": "code",
   "execution_count": 114,
   "metadata": {},
   "outputs": [],
   "source": [
    "def clean_price_val_func(data):\n",
    "    clean_currValues=re.sub(\"\\$\",\"\",str(data))\n",
    "    return clean_currValues\n",
    "newdf.currency_values=df.price_string.apply(clean_price_val_func)"
   ]
  },
  {
   "cell_type": "markdown",
   "metadata": {},
   "source": [
    "* Checking the sample"
   ]
  },
  {
   "cell_type": "code",
   "execution_count": 115,
   "metadata": {},
   "outputs": [
    {
     "data": {
      "text/html": [
       "<div>\n",
       "<style scoped>\n",
       "    .dataframe tbody tr th:only-of-type {\n",
       "        vertical-align: middle;\n",
       "    }\n",
       "\n",
       "    .dataframe tbody tr th {\n",
       "        vertical-align: top;\n",
       "    }\n",
       "\n",
       "    .dataframe thead th {\n",
       "        text-align: right;\n",
       "    }\n",
       "</style>\n",
       "<table border=\"1\" class=\"dataframe\">\n",
       "  <thead>\n",
       "    <tr style=\"text-align: right;\">\n",
       "      <th></th>\n",
       "      <th>uuid</th>\n",
       "      <th>price_string</th>\n",
       "      <th>price_string_unf</th>\n",
       "      <th>product_type</th>\n",
       "      <th>level_1</th>\n",
       "      <th>category</th>\n",
       "      <th>currency</th>\n",
       "      <th>currency_values</th>\n",
       "    </tr>\n",
       "  </thead>\n",
       "  <tbody>\n",
       "    <tr>\n",
       "      <th>0</th>\n",
       "      <td>638744a4-b0ae-4166-8cb6-5c063c862036</td>\n",
       "      <td>NaN</td>\n",
       "      <td>NaN</td>\n",
       "      <td>TGFwdG9wIENvdmVycy9CYWdz</td>\n",
       "      <td>TGFwdG9wIENhc2U</td>\n",
       "      <td>RWxlY3Ryb25pY3M</td>\n",
       "      <td>nan</td>\n",
       "      <td>nan</td>\n",
       "    </tr>\n",
       "    <tr>\n",
       "      <th>1</th>\n",
       "      <td>ab313969-02cc-48b2-9daf-0054efb70b92</td>\n",
       "      <td>NaN</td>\n",
       "      <td>NaN</td>\n",
       "      <td>QmFraW5nIEN1cHMgYW5kIE1hdHM</td>\n",
       "      <td>QmFraW5nIE1hdHMgLyBCYWtpbmcgZGlzaA</td>\n",
       "      <td>a2l0Y2hpbmcgYW5kIGRpbmluZw</td>\n",
       "      <td>nan</td>\n",
       "      <td>nan</td>\n",
       "    </tr>\n",
       "    <tr>\n",
       "      <th>2</th>\n",
       "      <td>acbd66ff-79f8-467a-91f9-108a45af5626</td>\n",
       "      <td>$19.95</td>\n",
       "      <td>NaN</td>\n",
       "      <td>R3VtbWllcyB2aXRhbWlucyBhbmQgbWluZXJhbHMgZm9yIG...</td>\n",
       "      <td>SW1tdW5pdHkgZ3VtbWllcw</td>\n",
       "      <td>SGVhbHRo</td>\n",
       "      <td>$</td>\n",
       "      <td>19.95</td>\n",
       "    </tr>\n",
       "    <tr>\n",
       "      <th>3</th>\n",
       "      <td>963915d6-b2e3-4098-b242-9410593cf205</td>\n",
       "      <td>$92.00</td>\n",
       "      <td>NaN</td>\n",
       "      <td>U2VydW1z</td>\n",
       "      <td>RmFjZSBTZXJ1bQ</td>\n",
       "      <td>YmVhdXR5IGFuZCBwZXJzb25hbCBjYXJl</td>\n",
       "      <td>$</td>\n",
       "      <td>92.00</td>\n",
       "    </tr>\n",
       "    <tr>\n",
       "      <th>4</th>\n",
       "      <td>b5b68f3c-b1e0-40e5-8ee5-e2f7236c1daf</td>\n",
       "      <td>11.50</td>\n",
       "      <td>NaN</td>\n",
       "      <td>RWF0aW5nIFV0ZW5zaWxzL0N1dGxlcnk</td>\n",
       "      <td>Q2hvcHN0aWNrcw</td>\n",
       "      <td>a2l0Y2hpbmcgYW5kIGRpbmluZw</td>\n",
       "      <td></td>\n",
       "      <td>11.50</td>\n",
       "    </tr>\n",
       "  </tbody>\n",
       "</table>\n",
       "</div>"
      ],
      "text/plain": [
       "                                   uuid price_string price_string_unf  \\\n",
       "0  638744a4-b0ae-4166-8cb6-5c063c862036          NaN              NaN   \n",
       "1  ab313969-02cc-48b2-9daf-0054efb70b92          NaN              NaN   \n",
       "2  acbd66ff-79f8-467a-91f9-108a45af5626       $19.95              NaN   \n",
       "3  963915d6-b2e3-4098-b242-9410593cf205       $92.00              NaN   \n",
       "4  b5b68f3c-b1e0-40e5-8ee5-e2f7236c1daf        11.50              NaN   \n",
       "\n",
       "                                        product_type  \\\n",
       "0                           TGFwdG9wIENvdmVycy9CYWdz   \n",
       "1                        QmFraW5nIEN1cHMgYW5kIE1hdHM   \n",
       "2  R3VtbWllcyB2aXRhbWlucyBhbmQgbWluZXJhbHMgZm9yIG...   \n",
       "3                                           U2VydW1z   \n",
       "4                    RWF0aW5nIFV0ZW5zaWxzL0N1dGxlcnk   \n",
       "\n",
       "                              level_1                          category  \\\n",
       "0                     TGFwdG9wIENhc2U                   RWxlY3Ryb25pY3M   \n",
       "1  QmFraW5nIE1hdHMgLyBCYWtpbmcgZGlzaA        a2l0Y2hpbmcgYW5kIGRpbmluZw   \n",
       "2              SW1tdW5pdHkgZ3VtbWllcw                          SGVhbHRo   \n",
       "3                      RmFjZSBTZXJ1bQ  YmVhdXR5IGFuZCBwZXJzb25hbCBjYXJl   \n",
       "4                      Q2hvcHN0aWNrcw        a2l0Y2hpbmcgYW5kIGRpbmluZw   \n",
       "\n",
       "  currency currency_values  \n",
       "0      nan             nan  \n",
       "1      nan             nan  \n",
       "2        $           19.95  \n",
       "3        $           92.00  \n",
       "4                    11.50  "
      ]
     },
     "execution_count": 115,
     "metadata": {},
     "output_type": "execute_result"
    }
   ],
   "source": [
    "newdf.head()"
   ]
  },
  {
   "cell_type": "markdown",
   "metadata": {},
   "source": [
    "* Dropping the price_string column"
   ]
  },
  {
   "cell_type": "code",
   "execution_count": 116,
   "metadata": {},
   "outputs": [],
   "source": [
    "newdf.drop(\"price_string\",axis=1,inplace=True)"
   ]
  },
  {
   "cell_type": "code",
   "execution_count": 117,
   "metadata": {},
   "outputs": [
    {
     "data": {
      "text/plain": [
       "Index(['uuid', 'price_string_unf', 'product_type', 'level_1', 'category',\n",
       "       'currency', 'currency_values'],\n",
       "      dtype='object')"
      ]
     },
     "execution_count": 117,
     "metadata": {},
     "output_type": "execute_result"
    }
   ],
   "source": [
    "newdf.columns"
   ]
  },
  {
   "cell_type": "markdown",
   "metadata": {},
   "source": [
    "# Cleaning the price unf"
   ]
  },
  {
   "cell_type": "code",
   "execution_count": 118,
   "metadata": {},
   "outputs": [
    {
     "data": {
      "text/plain": [
       "$6.75                               30000\n",
       "$11.99                              20000\n",
       "$49.00                              20000\n",
       "$85 USD                             20000\n",
       "$10.00                              10000\n",
       "$198.00                             10000\n",
       "$52 USD                             10000\n",
       "$80 USD                             10000\n",
       "$50 USD                             10000\n",
       "$138.00\\n\\n\\n\\n$96.60               10000\n",
       "$25.00                              10000\n",
       "$29.00                              10000\n",
       "$178.00\\n\\n\\n\\n$59.50               10000\n",
       "$95 USD                             10000\n",
       "Current price: \\n$359.00            10000\n",
       "$99.00                              10000\n",
       "Current price: \\n$329.40            10000\n",
       "$178.00\\n\\n\\n\\n$64.50               10000\n",
       "$248.00\\n\\n\\n\\n$104.50 - $248.00    10000\n",
       "$24.00                              10000\n",
       "$41 USD                             10000\n",
       "$619.00                             10000\n",
       "$459.99                             10000\n",
       "$18.95                              10000\n",
       "$15.00                              10000\n",
       "$30.00                              10000\n",
       "Name: price_string_unf, dtype: int64"
      ]
     },
     "execution_count": 118,
     "metadata": {},
     "output_type": "execute_result"
    }
   ],
   "source": [
    "newdf.price_string_unf.value_counts()"
   ]
  },
  {
   "cell_type": "markdown",
   "metadata": {},
   "source": [
    "* Creating two new columns\n"
   ]
  },
  {
   "cell_type": "code",
   "execution_count": 119,
   "metadata": {},
   "outputs": [],
   "source": [
    "newdf[\"currency_unf\"]=0\n",
    "newdf[\"currency_value_unf\"]=0\n",
    "newdf[\"currency_name_unf\"]=0"
   ]
  },
  {
   "cell_type": "markdown",
   "metadata": {},
   "source": [
    "* Cleaning the currency_unf"
   ]
  },
  {
   "cell_type": "code",
   "execution_count": 169,
   "metadata": {},
   "outputs": [],
   "source": [
    "def clean_price_func(data):\n",
    "    clean_curr_unf=re.sub(\"\\d|[.]|\\n|\\w|\\:|\\s|.*$\",\"\",str(data))\n",
    "    return clean_curr_unf\n",
    "newdf.currency_unf=df.price_string_unf.apply(clean_price_func)"
   ]
  },
  {
   "cell_type": "code",
   "execution_count": 168,
   "metadata": {},
   "outputs": [
    {
     "data": {
      "text/plain": [
       "'$'"
      ]
     },
     "execution_count": 168,
     "metadata": {},
     "output_type": "execute_result"
    }
   ],
   "source": [
    "clean_curr_unf=re.sub(\"\\d|[.]|\\n|\\w|\\:|\\s|.*$\",\"\",str('$178.00\\n\\n\\n\\n$59.50 '))\n",
    "clean_curr_unf"
   ]
  },
  {
   "cell_type": "code",
   "execution_count": 170,
   "metadata": {},
   "outputs": [
    {
     "data": {
      "text/plain": [
       "     13690000\n",
       "$       40000\n",
       "Name: currency_unf, dtype: int64"
      ]
     },
     "execution_count": 170,
     "metadata": {},
     "output_type": "execute_result"
    }
   ],
   "source": [
    "newdf.currency_unf.value_counts()"
   ]
  },
  {
   "cell_type": "markdown",
   "metadata": {},
   "source": [
    "* Cleaning for currency_value_unf"
   ]
  },
  {
   "cell_type": "code",
   "execution_count": 147,
   "metadata": {},
   "outputs": [
    {
     "data": {
      "text/plain": [
       "'52'"
      ]
     },
     "execution_count": 147,
     "metadata": {},
     "output_type": "execute_result"
    }
   ],
   "source": [
    "clean_currValues=re.sub(\"\\$|.*\\n|[A-Z]|\\s\",\"\",str(\"52 USD \"))\n",
    "clean_currValues"
   ]
  },
  {
   "cell_type": "code",
   "execution_count": 148,
   "metadata": {},
   "outputs": [],
   "source": [
    "def clean_price_val_unf_func(data):\n",
    "    clean_currValues=re.sub(\"\\$|.*\\n|[A-Z]|\\s\",\"\",str(data))\n",
    "    return clean_currValues\n",
    "newdf.currency_value_unf=df.price_string_unf.apply(clean_price_val_unf_func)"
   ]
  },
  {
   "cell_type": "code",
   "execution_count": 149,
   "metadata": {},
   "outputs": [
    {
     "data": {
      "text/plain": [
       "nan              13420000\n",
       "6.75                30000\n",
       "49.00               20000\n",
       "85                  20000\n",
       "11.99               20000\n",
       "10.00               10000\n",
       "198.00              10000\n",
       "52                  10000\n",
       "80                  10000\n",
       "50                  10000\n",
       "96.60               10000\n",
       "25.00               10000\n",
       "29.00               10000\n",
       "59.50               10000\n",
       "95                  10000\n",
       "99.00               10000\n",
       "359.00              10000\n",
       "329.40              10000\n",
       "64.50               10000\n",
       "104.50-248.00       10000\n",
       "24.00               10000\n",
       "41                  10000\n",
       "619.00              10000\n",
       "459.99              10000\n",
       "18.95               10000\n",
       "15.00               10000\n",
       "30.00               10000\n",
       "Name: currency_value_unf, dtype: int64"
      ]
     },
     "execution_count": 149,
     "metadata": {},
     "output_type": "execute_result"
    }
   ],
   "source": [
    "newdf.currency_value_unf.value_counts()"
   ]
  },
  {
   "cell_type": "markdown",
   "metadata": {},
   "source": [
    "* Cleaning for currency names unf"
   ]
  },
  {
   "cell_type": "code",
   "execution_count": 160,
   "metadata": {},
   "outputs": [
    {
     "data": {
      "text/plain": [
       "'USDCurrentprice'"
      ]
     },
     "execution_count": 160,
     "metadata": {},
     "output_type": "execute_result"
    }
   ],
   "source": [
    "clean_currNames=re.sub(\".*\\d|\\s|\\'Currentprice'\",\"\",str(\"Current rate : $41 USD Currentprice\"))\n",
    "clean_currNames"
   ]
  },
  {
   "cell_type": "code",
   "execution_count": 154,
   "metadata": {},
   "outputs": [],
   "source": [
    "def clean_price_name_unf_func(data):\n",
    "    clean_currValues=re.sub(\".*\\d|\\s|\\'Currentprice'\",\"\",str(data))\n",
    "    return clean_currValues\n",
    "newdf.currency_name_unf=df.price_string_unf.apply(clean_price_name_unf_func)"
   ]
  },
  {
   "cell_type": "code",
   "execution_count": 155,
   "metadata": {},
   "outputs": [
    {
     "data": {
      "text/plain": [
       "nan              13420000\n",
       "                   220000\n",
       "USD                 70000\n",
       "Currentprice:       20000\n",
       "Name: currency_name_unf, dtype: int64"
      ]
     },
     "execution_count": 155,
     "metadata": {},
     "output_type": "execute_result"
    }
   ],
   "source": [
    "newdf.currency_name_unf.value_counts()"
   ]
  },
  {
   "cell_type": "markdown",
   "metadata": {},
   "source": [
    "* Exploratory Data Analysis"
   ]
  },
  {
   "cell_type": "code",
   "execution_count": 129,
   "metadata": {},
   "outputs": [
    {
     "name": "stdout",
     "output_type": "stream",
     "text": [
      "<class 'pandas.core.frame.DataFrame'>\n",
      "RangeIndex: 13730000 entries, 0 to 13729999\n",
      "Data columns (total 10 columns):\n",
      " #   Column              Dtype \n",
      "---  ------              ----- \n",
      " 0   uuid                object\n",
      " 1   price_string_unf    object\n",
      " 2   product_type        object\n",
      " 3   level_1             object\n",
      " 4   category            object\n",
      " 5   currency            object\n",
      " 6   currency_values     object\n",
      " 7   currency_unf        object\n",
      " 8   currency_value_unf  object\n",
      " 9   currency_name_unf   object\n",
      "dtypes: object(10)\n",
      "memory usage: 1.0+ GB\n"
     ]
    }
   ],
   "source": [
    "newdf.info()"
   ]
  },
  {
   "cell_type": "markdown",
   "metadata": {},
   "source": [
    "* Handling the NaN values"
   ]
  },
  {
   "cell_type": "markdown",
   "metadata": {},
   "source": [
    "In currency_values column"
   ]
  },
  {
   "cell_type": "code",
   "execution_count": 130,
   "metadata": {},
   "outputs": [],
   "source": [
    "newdf[newdf.currency_values=='nan']=0"
   ]
  },
  {
   "cell_type": "markdown",
   "metadata": {},
   "source": [
    "* Converting the currency_values & currency_value_unf datatypes to float"
   ]
  },
  {
   "cell_type": "code",
   "execution_count": 131,
   "metadata": {},
   "outputs": [],
   "source": [
    "newdf.currency_values=pd.to_numeric(newdf.currency_values, downcast='float',errors='ignore')"
   ]
  },
  {
   "cell_type": "code",
   "execution_count": 132,
   "metadata": {},
   "outputs": [
    {
     "name": "stdout",
     "output_type": "stream",
     "text": [
      "<class 'pandas.core.frame.DataFrame'>\n",
      "RangeIndex: 13730000 entries, 0 to 13729999\n",
      "Data columns (total 10 columns):\n",
      " #   Column              Dtype  \n",
      "---  ------              -----  \n",
      " 0   uuid                object \n",
      " 1   price_string_unf    object \n",
      " 2   product_type        object \n",
      " 3   level_1             object \n",
      " 4   category            object \n",
      " 5   currency            object \n",
      " 6   currency_values     float32\n",
      " 7   currency_unf        object \n",
      " 8   currency_value_unf  object \n",
      " 9   currency_name_unf   object \n",
      "dtypes: float32(1), object(9)\n",
      "memory usage: 995.1+ MB\n"
     ]
    }
   ],
   "source": [
    "newdf.info()"
   ]
  },
  {
   "cell_type": "markdown",
   "metadata": {},
   "source": [
    "* Changing the datatype of the currency value unf column"
   ]
  },
  {
   "cell_type": "code",
   "execution_count": 133,
   "metadata": {},
   "outputs": [],
   "source": [
    "newdf.currency_value_unf=pd.to_numeric(newdf.currency_value_unf, downcast='float',errors='ignore')"
   ]
  },
  {
   "cell_type": "code",
   "execution_count": 134,
   "metadata": {},
   "outputs": [
    {
     "name": "stdout",
     "output_type": "stream",
     "text": [
      "<class 'pandas.core.frame.DataFrame'>\n",
      "RangeIndex: 13730000 entries, 0 to 13729999\n",
      "Data columns (total 10 columns):\n",
      " #   Column              Dtype  \n",
      "---  ------              -----  \n",
      " 0   uuid                object \n",
      " 1   price_string_unf    object \n",
      " 2   product_type        object \n",
      " 3   level_1             object \n",
      " 4   category            object \n",
      " 5   currency            object \n",
      " 6   currency_values     float32\n",
      " 7   currency_unf        object \n",
      " 8   currency_value_unf  object \n",
      " 9   currency_name_unf   object \n",
      "dtypes: float32(1), object(9)\n",
      "memory usage: 995.1+ MB\n"
     ]
    }
   ],
   "source": [
    "newdf.info()"
   ]
  },
  {
   "cell_type": "markdown",
   "metadata": {},
   "source": [
    "# List out the categories with average price of product"
   ]
  },
  {
   "cell_type": "markdown",
   "metadata": {},
   "source": [
    "* Average price of the product"
   ]
  },
  {
   "cell_type": "code",
   "execution_count": 135,
   "metadata": {},
   "outputs": [
    {
     "data": {
      "text/plain": [
       "28.103428"
      ]
     },
     "execution_count": 135,
     "metadata": {},
     "output_type": "execute_result"
    }
   ],
   "source": [
    "curr_avg=np.mean(newdf.currency_values)\n",
    "curr_avg"
   ]
  },
  {
   "cell_type": "code",
   "execution_count": 136,
   "metadata": {},
   "outputs": [
    {
     "data": {
      "text/html": [
       "<div>\n",
       "<style scoped>\n",
       "    .dataframe tbody tr th:only-of-type {\n",
       "        vertical-align: middle;\n",
       "    }\n",
       "\n",
       "    .dataframe tbody tr th {\n",
       "        vertical-align: top;\n",
       "    }\n",
       "\n",
       "    .dataframe thead th {\n",
       "        text-align: right;\n",
       "    }\n",
       "</style>\n",
       "<table border=\"1\" class=\"dataframe\">\n",
       "  <thead>\n",
       "    <tr style=\"text-align: right;\">\n",
       "      <th></th>\n",
       "      <th>uuid</th>\n",
       "      <th>price_string_unf</th>\n",
       "      <th>product_type</th>\n",
       "      <th>level_1</th>\n",
       "      <th>category</th>\n",
       "      <th>currency</th>\n",
       "      <th>currency_values</th>\n",
       "      <th>currency_unf</th>\n",
       "      <th>currency_value_unf</th>\n",
       "      <th>currency_name_unf</th>\n",
       "    </tr>\n",
       "  </thead>\n",
       "  <tbody>\n",
       "    <tr>\n",
       "      <th>0</th>\n",
       "      <td>0</td>\n",
       "      <td>0</td>\n",
       "      <td>0</td>\n",
       "      <td>0</td>\n",
       "      <td>0</td>\n",
       "      <td>0</td>\n",
       "      <td>0.000000</td>\n",
       "      <td>0</td>\n",
       "      <td>0</td>\n",
       "      <td>0</td>\n",
       "    </tr>\n",
       "    <tr>\n",
       "      <th>1</th>\n",
       "      <td>0</td>\n",
       "      <td>0</td>\n",
       "      <td>0</td>\n",
       "      <td>0</td>\n",
       "      <td>0</td>\n",
       "      <td>0</td>\n",
       "      <td>0.000000</td>\n",
       "      <td>0</td>\n",
       "      <td>0</td>\n",
       "      <td>0</td>\n",
       "    </tr>\n",
       "    <tr>\n",
       "      <th>2</th>\n",
       "      <td>acbd66ff-79f8-467a-91f9-108a45af5626</td>\n",
       "      <td>NaN</td>\n",
       "      <td>R3VtbWllcyB2aXRhbWlucyBhbmQgbWluZXJhbHMgZm9yIG...</td>\n",
       "      <td>SW1tdW5pdHkgZ3VtbWllcw</td>\n",
       "      <td>SGVhbHRo</td>\n",
       "      <td>$</td>\n",
       "      <td>19.950001</td>\n",
       "      <td></td>\n",
       "      <td>nan</td>\n",
       "      <td>nan</td>\n",
       "    </tr>\n",
       "    <tr>\n",
       "      <th>3</th>\n",
       "      <td>963915d6-b2e3-4098-b242-9410593cf205</td>\n",
       "      <td>NaN</td>\n",
       "      <td>U2VydW1z</td>\n",
       "      <td>RmFjZSBTZXJ1bQ</td>\n",
       "      <td>YmVhdXR5IGFuZCBwZXJzb25hbCBjYXJl</td>\n",
       "      <td>$</td>\n",
       "      <td>92.000000</td>\n",
       "      <td></td>\n",
       "      <td>nan</td>\n",
       "      <td>nan</td>\n",
       "    </tr>\n",
       "    <tr>\n",
       "      <th>4</th>\n",
       "      <td>b5b68f3c-b1e0-40e5-8ee5-e2f7236c1daf</td>\n",
       "      <td>NaN</td>\n",
       "      <td>RWF0aW5nIFV0ZW5zaWxzL0N1dGxlcnk</td>\n",
       "      <td>Q2hvcHN0aWNrcw</td>\n",
       "      <td>a2l0Y2hpbmcgYW5kIGRpbmluZw</td>\n",
       "      <td></td>\n",
       "      <td>11.500000</td>\n",
       "      <td></td>\n",
       "      <td>nan</td>\n",
       "      <td>nan</td>\n",
       "    </tr>\n",
       "  </tbody>\n",
       "</table>\n",
       "</div>"
      ],
      "text/plain": [
       "                                   uuid price_string_unf  \\\n",
       "0                                     0                0   \n",
       "1                                     0                0   \n",
       "2  acbd66ff-79f8-467a-91f9-108a45af5626              NaN   \n",
       "3  963915d6-b2e3-4098-b242-9410593cf205              NaN   \n",
       "4  b5b68f3c-b1e0-40e5-8ee5-e2f7236c1daf              NaN   \n",
       "\n",
       "                                        product_type                 level_1  \\\n",
       "0                                                  0                       0   \n",
       "1                                                  0                       0   \n",
       "2  R3VtbWllcyB2aXRhbWlucyBhbmQgbWluZXJhbHMgZm9yIG...  SW1tdW5pdHkgZ3VtbWllcw   \n",
       "3                                           U2VydW1z          RmFjZSBTZXJ1bQ   \n",
       "4                    RWF0aW5nIFV0ZW5zaWxzL0N1dGxlcnk          Q2hvcHN0aWNrcw   \n",
       "\n",
       "                           category currency  currency_values currency_unf  \\\n",
       "0                                 0        0         0.000000            0   \n",
       "1                                 0        0         0.000000            0   \n",
       "2                          SGVhbHRo        $        19.950001                \n",
       "3  YmVhdXR5IGFuZCBwZXJzb25hbCBjYXJl        $        92.000000                \n",
       "4        a2l0Y2hpbmcgYW5kIGRpbmluZw                 11.500000                \n",
       "\n",
       "  currency_value_unf currency_name_unf  \n",
       "0                  0                 0  \n",
       "1                  0                 0  \n",
       "2                nan               nan  \n",
       "3                nan               nan  \n",
       "4                nan               nan  "
      ]
     },
     "execution_count": 136,
     "metadata": {},
     "output_type": "execute_result"
    }
   ],
   "source": [
    "newdf.head()"
   ]
  },
  {
   "cell_type": "markdown",
   "metadata": {},
   "source": [
    "* Category wise product price split\n"
   ]
  },
  {
   "cell_type": "code",
   "execution_count": 137,
   "metadata": {},
   "outputs": [
    {
     "data": {
      "text/plain": [
       "0                                      8220000\n",
       "Q2xvdGhpbmcgYW5kIEFjY2Vzc29yaWVz       1860000\n",
       "YmVhdXR5IGFuZCBwZXJzb25hbCBjYXJl        750000\n",
       "SG91c2Vob2xkIGFuZCBDbGVhbmluZw          700000\n",
       "Z3JvY2VyaWVz                            480000\n",
       "a2l0Y2hpbmcgYW5kIGRpbmluZw              340000\n",
       "SGVhbHRo                                290000\n",
       "VG9vbHMgYW5kIGhvbWUgaW1wcm92ZW1lbnQ     200000\n",
       "VG95cyBhbmQgR2FtZXM                     190000\n",
       "QXJ0IHN1cHBsaWVz                        190000\n",
       "cGV0IHN1cHBsaWVz                        160000\n",
       "b2ZmaWNlIHByb2R1Y3Rz                    150000\n",
       "RWxlY3Ryb25pY3M                         110000\n",
       "QmFieWNhcmU                              90000\n",
       "Name: category, dtype: int64"
      ]
     },
     "execution_count": 137,
     "metadata": {},
     "output_type": "execute_result"
    }
   ],
   "source": [
    "newdf.category.value_counts()"
   ]
  },
  {
   "cell_type": "markdown",
   "metadata": {},
   "source": [
    "* Crating the list of the categories"
   ]
  },
  {
   "cell_type": "code",
   "execution_count": 138,
   "metadata": {},
   "outputs": [],
   "source": [
    "cat=newdf.category.value_counts().index.tolist()"
   ]
  },
  {
   "cell_type": "code",
   "execution_count": 139,
   "metadata": {},
   "outputs": [
    {
     "data": {
      "text/plain": [
       "[0,\n",
       " 'Q2xvdGhpbmcgYW5kIEFjY2Vzc29yaWVz',\n",
       " 'YmVhdXR5IGFuZCBwZXJzb25hbCBjYXJl',\n",
       " 'SG91c2Vob2xkIGFuZCBDbGVhbmluZw',\n",
       " 'Z3JvY2VyaWVz',\n",
       " 'a2l0Y2hpbmcgYW5kIGRpbmluZw',\n",
       " 'SGVhbHRo',\n",
       " 'VG9vbHMgYW5kIGhvbWUgaW1wcm92ZW1lbnQ',\n",
       " 'VG95cyBhbmQgR2FtZXM',\n",
       " 'QXJ0IHN1cHBsaWVz',\n",
       " 'cGV0IHN1cHBsaWVz',\n",
       " 'b2ZmaWNlIHByb2R1Y3Rz',\n",
       " 'RWxlY3Ryb25pY3M',\n",
       " 'QmFieWNhcmU']"
      ]
     },
     "execution_count": 139,
     "metadata": {},
     "output_type": "execute_result"
    }
   ],
   "source": [
    "cat"
   ]
  },
  {
   "cell_type": "code",
   "execution_count": 140,
   "metadata": {},
   "outputs": [
    {
     "data": {
      "text/plain": [
       "'Q2xvdGhpbmcgYW5kIEFjY2Vzc29yaWVz'"
      ]
     },
     "execution_count": 140,
     "metadata": {},
     "output_type": "execute_result"
    }
   ],
   "source": [
    "cat[1]"
   ]
  },
  {
   "cell_type": "markdown",
   "metadata": {},
   "source": [
    "* Getting the mean of the individual categories\n"
   ]
  },
  {
   "cell_type": "code",
   "execution_count": 141,
   "metadata": {},
   "outputs": [
    {
     "ename": "KeyboardInterrupt",
     "evalue": "",
     "output_type": "error",
     "traceback": [
      "\u001b[1;31m---------------------------------------------------------------------------\u001b[0m",
      "\u001b[1;31mKeyboardInterrupt\u001b[0m                         Traceback (most recent call last)",
      "\u001b[1;32md:\\Private\\Internshala\\Be Zen\\code\\main.ipynb Cell 102\u001b[0m in \u001b[0;36m<cell line: 1>\u001b[1;34m()\u001b[0m\n\u001b[1;32m----> <a href='vscode-notebook-cell:/d%3A/Private/Internshala/Be%20Zen/code/main.ipynb#Y201sZmlsZQ%3D%3D?line=0'>1</a>\u001b[0m x\u001b[39m=\u001b[39mnp\u001b[39m.\u001b[39mmean(newdf[newdf\u001b[39m.\u001b[39;49mcategory\u001b[39m==\u001b[39;49mcat[\u001b[39m1\u001b[39;49m]]\u001b[39m.\u001b[39mcurrency_values)\n",
      "File \u001b[1;32m~\\AppData\\Local\\Packages\\PythonSoftwareFoundation.Python.3.10_qbz5n2kfra8p0\\LocalCache\\local-packages\\Python310\\site-packages\\pandas\\core\\frame.py:3496\u001b[0m, in \u001b[0;36mDataFrame.__getitem__\u001b[1;34m(self, key)\u001b[0m\n\u001b[0;32m   3494\u001b[0m \u001b[39m# Do we have a (boolean) 1d indexer?\u001b[39;00m\n\u001b[0;32m   3495\u001b[0m \u001b[39mif\u001b[39;00m com\u001b[39m.\u001b[39mis_bool_indexer(key):\n\u001b[1;32m-> 3496\u001b[0m     \u001b[39mreturn\u001b[39;00m \u001b[39mself\u001b[39;49m\u001b[39m.\u001b[39;49m_getitem_bool_array(key)\n\u001b[0;32m   3498\u001b[0m \u001b[39m# We are left with two options: a single key, and a collection of keys,\u001b[39;00m\n\u001b[0;32m   3499\u001b[0m \u001b[39m# We interpret tuples as collections only for non-MultiIndex\u001b[39;00m\n\u001b[0;32m   3500\u001b[0m is_single_key \u001b[39m=\u001b[39m \u001b[39misinstance\u001b[39m(key, \u001b[39mtuple\u001b[39m) \u001b[39mor\u001b[39;00m \u001b[39mnot\u001b[39;00m is_list_like(key)\n",
      "File \u001b[1;32m~\\AppData\\Local\\Packages\\PythonSoftwareFoundation.Python.3.10_qbz5n2kfra8p0\\LocalCache\\local-packages\\Python310\\site-packages\\pandas\\core\\frame.py:3551\u001b[0m, in \u001b[0;36mDataFrame._getitem_bool_array\u001b[1;34m(self, key)\u001b[0m\n\u001b[0;32m   3549\u001b[0m key \u001b[39m=\u001b[39m check_bool_indexer(\u001b[39mself\u001b[39m\u001b[39m.\u001b[39mindex, key)\n\u001b[0;32m   3550\u001b[0m indexer \u001b[39m=\u001b[39m key\u001b[39m.\u001b[39mnonzero()[\u001b[39m0\u001b[39m]\n\u001b[1;32m-> 3551\u001b[0m \u001b[39mreturn\u001b[39;00m \u001b[39mself\u001b[39;49m\u001b[39m.\u001b[39;49m_take_with_is_copy(indexer, axis\u001b[39m=\u001b[39;49m\u001b[39m0\u001b[39;49m)\n",
      "File \u001b[1;32m~\\AppData\\Local\\Packages\\PythonSoftwareFoundation.Python.3.10_qbz5n2kfra8p0\\LocalCache\\local-packages\\Python310\\site-packages\\pandas\\core\\generic.py:3716\u001b[0m, in \u001b[0;36mNDFrame._take_with_is_copy\u001b[1;34m(self, indices, axis)\u001b[0m\n\u001b[0;32m   3708\u001b[0m \u001b[39mdef\u001b[39;00m \u001b[39m_take_with_is_copy\u001b[39m(\u001b[39mself\u001b[39m: NDFrameT, indices, axis\u001b[39m=\u001b[39m\u001b[39m0\u001b[39m) \u001b[39m-\u001b[39m\u001b[39m>\u001b[39m NDFrameT:\n\u001b[0;32m   3709\u001b[0m     \u001b[39m\"\"\"\u001b[39;00m\n\u001b[0;32m   3710\u001b[0m \u001b[39m    Internal version of the `take` method that sets the `_is_copy`\u001b[39;00m\n\u001b[0;32m   3711\u001b[0m \u001b[39m    attribute to keep track of the parent dataframe (using in indexing\u001b[39;00m\n\u001b[1;32m   (...)\u001b[0m\n\u001b[0;32m   3714\u001b[0m \u001b[39m    See the docstring of `take` for full explanation of the parameters.\u001b[39;00m\n\u001b[0;32m   3715\u001b[0m \u001b[39m    \"\"\"\u001b[39;00m\n\u001b[1;32m-> 3716\u001b[0m     result \u001b[39m=\u001b[39m \u001b[39mself\u001b[39;49m\u001b[39m.\u001b[39;49mtake(indices\u001b[39m=\u001b[39;49mindices, axis\u001b[39m=\u001b[39;49maxis)\n\u001b[0;32m   3717\u001b[0m     \u001b[39m# Maybe set copy if we didn't actually change the index.\u001b[39;00m\n\u001b[0;32m   3718\u001b[0m     \u001b[39mif\u001b[39;00m \u001b[39mnot\u001b[39;00m result\u001b[39m.\u001b[39m_get_axis(axis)\u001b[39m.\u001b[39mequals(\u001b[39mself\u001b[39m\u001b[39m.\u001b[39m_get_axis(axis)):\n",
      "File \u001b[1;32m~\\AppData\\Local\\Packages\\PythonSoftwareFoundation.Python.3.10_qbz5n2kfra8p0\\LocalCache\\local-packages\\Python310\\site-packages\\pandas\\core\\generic.py:3701\u001b[0m, in \u001b[0;36mNDFrame.take\u001b[1;34m(self, indices, axis, is_copy, **kwargs)\u001b[0m\n\u001b[0;32m   3692\u001b[0m     warnings\u001b[39m.\u001b[39mwarn(\n\u001b[0;32m   3693\u001b[0m         \u001b[39m\"\u001b[39m\u001b[39mis_copy is deprecated and will be removed in a future version. \u001b[39m\u001b[39m\"\u001b[39m\n\u001b[0;32m   3694\u001b[0m         \u001b[39m\"\u001b[39m\u001b[39m'\u001b[39m\u001b[39mtake\u001b[39m\u001b[39m'\u001b[39m\u001b[39m always returns a copy, so there is no need to specify this.\u001b[39m\u001b[39m\"\u001b[39m,\n\u001b[0;32m   3695\u001b[0m         \u001b[39mFutureWarning\u001b[39;00m,\n\u001b[0;32m   3696\u001b[0m         stacklevel\u001b[39m=\u001b[39mfind_stack_level(),\n\u001b[0;32m   3697\u001b[0m     )\n\u001b[0;32m   3699\u001b[0m nv\u001b[39m.\u001b[39mvalidate_take((), kwargs)\n\u001b[1;32m-> 3701\u001b[0m \u001b[39mself\u001b[39;49m\u001b[39m.\u001b[39;49m_consolidate_inplace()\n\u001b[0;32m   3703\u001b[0m new_data \u001b[39m=\u001b[39m \u001b[39mself\u001b[39m\u001b[39m.\u001b[39m_mgr\u001b[39m.\u001b[39mtake(\n\u001b[0;32m   3704\u001b[0m     indices, axis\u001b[39m=\u001b[39m\u001b[39mself\u001b[39m\u001b[39m.\u001b[39m_get_block_manager_axis(axis), verify\u001b[39m=\u001b[39m\u001b[39mTrue\u001b[39;00m\n\u001b[0;32m   3705\u001b[0m )\n\u001b[0;32m   3706\u001b[0m \u001b[39mreturn\u001b[39;00m \u001b[39mself\u001b[39m\u001b[39m.\u001b[39m_constructor(new_data)\u001b[39m.\u001b[39m__finalize__(\u001b[39mself\u001b[39m, method\u001b[39m=\u001b[39m\u001b[39m\"\u001b[39m\u001b[39mtake\u001b[39m\u001b[39m\"\u001b[39m)\n",
      "File \u001b[1;32m~\\AppData\\Local\\Packages\\PythonSoftwareFoundation.Python.3.10_qbz5n2kfra8p0\\LocalCache\\local-packages\\Python310\\site-packages\\pandas\\core\\generic.py:5653\u001b[0m, in \u001b[0;36mNDFrame._consolidate_inplace\u001b[1;34m(self)\u001b[0m\n\u001b[0;32m   5650\u001b[0m \u001b[39mdef\u001b[39;00m \u001b[39mf\u001b[39m():\n\u001b[0;32m   5651\u001b[0m     \u001b[39mself\u001b[39m\u001b[39m.\u001b[39m_mgr \u001b[39m=\u001b[39m \u001b[39mself\u001b[39m\u001b[39m.\u001b[39m_mgr\u001b[39m.\u001b[39mconsolidate()\n\u001b[1;32m-> 5653\u001b[0m \u001b[39mself\u001b[39;49m\u001b[39m.\u001b[39;49m_protect_consolidate(f)\n",
      "File \u001b[1;32m~\\AppData\\Local\\Packages\\PythonSoftwareFoundation.Python.3.10_qbz5n2kfra8p0\\LocalCache\\local-packages\\Python310\\site-packages\\pandas\\core\\generic.py:5641\u001b[0m, in \u001b[0;36mNDFrame._protect_consolidate\u001b[1;34m(self, f)\u001b[0m\n\u001b[0;32m   5639\u001b[0m     \u001b[39mreturn\u001b[39;00m f()\n\u001b[0;32m   5640\u001b[0m blocks_before \u001b[39m=\u001b[39m \u001b[39mlen\u001b[39m(\u001b[39mself\u001b[39m\u001b[39m.\u001b[39m_mgr\u001b[39m.\u001b[39mblocks)\n\u001b[1;32m-> 5641\u001b[0m result \u001b[39m=\u001b[39m f()\n\u001b[0;32m   5642\u001b[0m \u001b[39mif\u001b[39;00m \u001b[39mlen\u001b[39m(\u001b[39mself\u001b[39m\u001b[39m.\u001b[39m_mgr\u001b[39m.\u001b[39mblocks) \u001b[39m!=\u001b[39m blocks_before:\n\u001b[0;32m   5643\u001b[0m     \u001b[39mself\u001b[39m\u001b[39m.\u001b[39m_clear_item_cache()\n",
      "File \u001b[1;32m~\\AppData\\Local\\Packages\\PythonSoftwareFoundation.Python.3.10_qbz5n2kfra8p0\\LocalCache\\local-packages\\Python310\\site-packages\\pandas\\core\\generic.py:5651\u001b[0m, in \u001b[0;36mNDFrame._consolidate_inplace.<locals>.f\u001b[1;34m()\u001b[0m\n\u001b[0;32m   5650\u001b[0m \u001b[39mdef\u001b[39;00m \u001b[39mf\u001b[39m():\n\u001b[1;32m-> 5651\u001b[0m     \u001b[39mself\u001b[39m\u001b[39m.\u001b[39m_mgr \u001b[39m=\u001b[39m \u001b[39mself\u001b[39;49m\u001b[39m.\u001b[39;49m_mgr\u001b[39m.\u001b[39;49mconsolidate()\n",
      "File \u001b[1;32m~\\AppData\\Local\\Packages\\PythonSoftwareFoundation.Python.3.10_qbz5n2kfra8p0\\LocalCache\\local-packages\\Python310\\site-packages\\pandas\\core\\internals\\managers.py:631\u001b[0m, in \u001b[0;36mBaseBlockManager.consolidate\u001b[1;34m(self)\u001b[0m\n\u001b[0;32m    629\u001b[0m bm \u001b[39m=\u001b[39m \u001b[39mtype\u001b[39m(\u001b[39mself\u001b[39m)(\u001b[39mself\u001b[39m\u001b[39m.\u001b[39mblocks, \u001b[39mself\u001b[39m\u001b[39m.\u001b[39maxes, verify_integrity\u001b[39m=\u001b[39m\u001b[39mFalse\u001b[39;00m)\n\u001b[0;32m    630\u001b[0m bm\u001b[39m.\u001b[39m_is_consolidated \u001b[39m=\u001b[39m \u001b[39mFalse\u001b[39;00m\n\u001b[1;32m--> 631\u001b[0m bm\u001b[39m.\u001b[39;49m_consolidate_inplace()\n\u001b[0;32m    632\u001b[0m \u001b[39mreturn\u001b[39;00m bm\n",
      "File \u001b[1;32m~\\AppData\\Local\\Packages\\PythonSoftwareFoundation.Python.3.10_qbz5n2kfra8p0\\LocalCache\\local-packages\\Python310\\site-packages\\pandas\\core\\internals\\managers.py:1685\u001b[0m, in \u001b[0;36mBlockManager._consolidate_inplace\u001b[1;34m(self)\u001b[0m\n\u001b[0;32m   1683\u001b[0m \u001b[39mdef\u001b[39;00m \u001b[39m_consolidate_inplace\u001b[39m(\u001b[39mself\u001b[39m) \u001b[39m-\u001b[39m\u001b[39m>\u001b[39m \u001b[39mNone\u001b[39;00m:\n\u001b[0;32m   1684\u001b[0m     \u001b[39mif\u001b[39;00m \u001b[39mnot\u001b[39;00m \u001b[39mself\u001b[39m\u001b[39m.\u001b[39mis_consolidated():\n\u001b[1;32m-> 1685\u001b[0m         \u001b[39mself\u001b[39m\u001b[39m.\u001b[39mblocks \u001b[39m=\u001b[39m \u001b[39mtuple\u001b[39m(_consolidate(\u001b[39mself\u001b[39;49m\u001b[39m.\u001b[39;49mblocks))\n\u001b[0;32m   1686\u001b[0m         \u001b[39mself\u001b[39m\u001b[39m.\u001b[39m_is_consolidated \u001b[39m=\u001b[39m \u001b[39mTrue\u001b[39;00m\n\u001b[0;32m   1687\u001b[0m         \u001b[39mself\u001b[39m\u001b[39m.\u001b[39m_known_consolidated \u001b[39m=\u001b[39m \u001b[39mTrue\u001b[39;00m\n",
      "File \u001b[1;32m~\\AppData\\Local\\Packages\\PythonSoftwareFoundation.Python.3.10_qbz5n2kfra8p0\\LocalCache\\local-packages\\Python310\\site-packages\\pandas\\core\\internals\\managers.py:2087\u001b[0m, in \u001b[0;36m_consolidate\u001b[1;34m(blocks)\u001b[0m\n\u001b[0;32m   2083\u001b[0m \u001b[39mfor\u001b[39;00m (_can_consolidate, dtype), group_blocks \u001b[39min\u001b[39;00m grouper:\n\u001b[0;32m   2084\u001b[0m     merged_blocks \u001b[39m=\u001b[39m _merge_blocks(\n\u001b[0;32m   2085\u001b[0m         \u001b[39mlist\u001b[39m(group_blocks), dtype\u001b[39m=\u001b[39mdtype, can_consolidate\u001b[39m=\u001b[39m_can_consolidate\n\u001b[0;32m   2086\u001b[0m     )\n\u001b[1;32m-> 2087\u001b[0m     new_blocks \u001b[39m=\u001b[39m extend_blocks(merged_blocks, new_blocks)\n\u001b[0;32m   2088\u001b[0m \u001b[39mreturn\u001b[39;00m new_blocks\n",
      "File \u001b[1;32m~\\AppData\\Local\\Packages\\PythonSoftwareFoundation.Python.3.10_qbz5n2kfra8p0\\LocalCache\\local-packages\\Python310\\site-packages\\pandas\\core\\internals\\blocks.py:2128\u001b[0m, in \u001b[0;36mextend_blocks\u001b[1;34m(result, blocks)\u001b[0m\n\u001b[0;32m   2126\u001b[0m             blocks\u001b[39m.\u001b[39mextend(r)\n\u001b[0;32m   2127\u001b[0m         \u001b[39melse\u001b[39;00m:\n\u001b[1;32m-> 2128\u001b[0m             blocks\u001b[39m.\u001b[39mappend(r)\n\u001b[0;32m   2129\u001b[0m \u001b[39melse\u001b[39;00m:\n\u001b[0;32m   2130\u001b[0m     \u001b[39massert\u001b[39;00m \u001b[39misinstance\u001b[39m(result, Block), \u001b[39mtype\u001b[39m(result)\n",
      "\u001b[1;31mKeyboardInterrupt\u001b[0m: "
     ]
    }
   ],
   "source": [
    "x=np.mean(newdf[newdf.category==cat[1]].currency_values)\n"
   ]
  },
  {
   "cell_type": "code",
   "execution_count": null,
   "metadata": {},
   "outputs": [],
   "source": [
    "avg=[]\n",
    "for i in cat:\n",
    "    avg.append(np.mean(newdf[newdf.category==i].currency_values))"
   ]
  },
  {
   "cell_type": "code",
   "execution_count": null,
   "metadata": {},
   "outputs": [
    {
     "data": {
      "text/plain": [
       "[0.0,\n",
       " 125.41392,\n",
       " 34.745064,\n",
       " 76.199,\n",
       " 10.541667,\n",
       " 16.703234,\n",
       " 32.55759,\n",
       " 82.2235,\n",
       " 32.44895,\n",
       " 19.471054,\n",
       " 14.181875,\n",
       " 20.480001,\n",
       " 60.258186,\n",
       " 163.68887]"
      ]
     },
     "execution_count": 77,
     "metadata": {},
     "output_type": "execute_result"
    }
   ],
   "source": [
    "avg"
   ]
  },
  {
   "cell_type": "code",
   "execution_count": null,
   "metadata": {},
   "outputs": [
    {
     "data": {
      "text/plain": [
       "14"
      ]
     },
     "execution_count": 78,
     "metadata": {},
     "output_type": "execute_result"
    }
   ],
   "source": [
    "len(avg)"
   ]
  },
  {
   "cell_type": "code",
   "execution_count": null,
   "metadata": {},
   "outputs": [
    {
     "data": {
      "text/plain": [
       "14"
      ]
     },
     "execution_count": 79,
     "metadata": {},
     "output_type": "execute_result"
    }
   ],
   "source": [
    "len(cat)"
   ]
  },
  {
   "cell_type": "markdown",
   "metadata": {},
   "source": [
    "* Zipping the two lists into the dictionary"
   ]
  },
  {
   "cell_type": "code",
   "execution_count": null,
   "metadata": {},
   "outputs": [],
   "source": [
    "cat_avg = {cat[i]: avg[i] for i in range(len(avg))}"
   ]
  }
 ],
 "metadata": {
  "kernelspec": {
   "display_name": "Python 3.10.6 64-bit (microsoft store)",
   "language": "python",
   "name": "python3"
  },
  "language_info": {
   "codemirror_mode": {
    "name": "ipython",
    "version": 3
   },
   "file_extension": ".py",
   "mimetype": "text/x-python",
   "name": "python",
   "nbconvert_exporter": "python",
   "pygments_lexer": "ipython3",
   "version": "3.10.6"
  },
  "orig_nbformat": 4,
  "vscode": {
   "interpreter": {
    "hash": "a08f583acb35847448b52a9eb69292a61cb88f49696fc3f852078c09d98ba127"
   }
  }
 },
 "nbformat": 4,
 "nbformat_minor": 2
}
